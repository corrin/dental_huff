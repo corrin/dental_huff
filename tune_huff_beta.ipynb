{
 "cells": [
  {
   "metadata": {
    "ExecuteTime": {
     "end_time": "2024-10-25T01:09:17.352151Z",
     "start_time": "2024-10-25T01:09:17.347577Z"
    }
   },
   "cell_type": "code",
   "source": [
    "import math\n",
    "\n",
    "def ratings_to_size(rating):\n",
    "    return (math.sqrt(rating) + 20) / 10"
   ],
   "id": "4ef29f436530bdf5",
   "outputs": [],
   "execution_count": 5
  },
  {
   "metadata": {
    "ExecuteTime": {
     "end_time": "2024-10-25T01:09:17.554989Z",
     "start_time": "2024-10-25T01:09:17.383248Z"
    }
   },
   "cell_type": "code",
   "source": [
    "import pandas as pd\n",
    "import pymysql\n",
    "from sqlalchemy import create_engine\n",
    "from dotenv import load_dotenv\n",
    "import os\n",
    "\n",
    "# Load environment variables from the .env file\n",
    "load_dotenv()\n",
    "\n",
    "# Get the database credentials from environment variables\n",
    "user = os.getenv(\"MYSQL_USER\")\n",
    "password = os.getenv(\"MYSQL_PASSWORD\")\n",
    "host = os.getenv(\"MYSQL_HOST\")\n",
    "database = os.getenv(\"MYSQL_DATABASE\")\n",
    "\n",
    "# Create an SQLAlchemy engine for the connection\n",
    "engine = create_engine(f\"mysql+pymysql://{user}:{password}@{host}/{database}\")\n",
    "\n",
    "# Query to retrieve latitude and longitude\n",
    "query = \"SELECT latitude, longitude FROM address WHERE location_type = 'ROOFTOP';\"\n",
    "\n",
    "# Load data into a pandas DataFrame\n",
    "raw_df = pd.read_sql(query, engine)\n",
    "\n",
    "patient_df = raw_df\n",
    "\n",
    "# Display the data\n",
    "patient_df.head()\n",
    "\n"
   ],
   "id": "e13a731379cb5b46",
   "outputs": [
    {
     "data": {
      "text/plain": [
       "   latitude  longitude\n",
       "0  -36.7875    174.610\n",
       "1  -36.8152    174.635\n",
       "2  -36.8385    174.627\n",
       "3  -36.8337    174.604\n",
       "4  -36.8430    174.612"
      ],
      "text/html": [
       "<div>\n",
       "<style scoped>\n",
       "    .dataframe tbody tr th:only-of-type {\n",
       "        vertical-align: middle;\n",
       "    }\n",
       "\n",
       "    .dataframe tbody tr th {\n",
       "        vertical-align: top;\n",
       "    }\n",
       "\n",
       "    .dataframe thead th {\n",
       "        text-align: right;\n",
       "    }\n",
       "</style>\n",
       "<table border=\"1\" class=\"dataframe\">\n",
       "  <thead>\n",
       "    <tr style=\"text-align: right;\">\n",
       "      <th></th>\n",
       "      <th>latitude</th>\n",
       "      <th>longitude</th>\n",
       "    </tr>\n",
       "  </thead>\n",
       "  <tbody>\n",
       "    <tr>\n",
       "      <th>0</th>\n",
       "      <td>-36.7875</td>\n",
       "      <td>174.610</td>\n",
       "    </tr>\n",
       "    <tr>\n",
       "      <th>1</th>\n",
       "      <td>-36.8152</td>\n",
       "      <td>174.635</td>\n",
       "    </tr>\n",
       "    <tr>\n",
       "      <th>2</th>\n",
       "      <td>-36.8385</td>\n",
       "      <td>174.627</td>\n",
       "    </tr>\n",
       "    <tr>\n",
       "      <th>3</th>\n",
       "      <td>-36.8337</td>\n",
       "      <td>174.604</td>\n",
       "    </tr>\n",
       "    <tr>\n",
       "      <th>4</th>\n",
       "      <td>-36.8430</td>\n",
       "      <td>174.612</td>\n",
       "    </tr>\n",
       "  </tbody>\n",
       "</table>\n",
       "</div>"
      ]
     },
     "execution_count": 6,
     "metadata": {},
     "output_type": "execute_result"
    }
   ],
   "execution_count": 6
  },
  {
   "metadata": {
    "ExecuteTime": {
     "end_time": "2024-10-25T01:09:19.024795Z",
     "start_time": "2024-10-25T01:09:17.595834Z"
    }
   },
   "cell_type": "code",
   "source": [
    "import pickle \n",
    "# Load the property coordinates from the Parquet file\n",
    "property_data = pd.read_parquet('data/nz_property_lat_lon.parquet')\n",
    "property_data = property_data.drop(columns=['WKT'])\n",
    "\n",
    "# Load the deduplicated dentists\n",
    "with open('data/deduplicated_dentists.pkl', 'rb') as f:\n",
    "    deduplicated_dentists = pickle.load(f)\n",
    "\n",
    "# Convert deduplicated_dentists to DataFrame for easier manipulation\n",
    "dentists_df = pd.DataFrame(deduplicated_dentists)\n",
    "dentists_df['size'] = dentists_df['reviews'].apply(ratings_to_size)\n",
    "\n",
    "# Display a few rows to verify\n",
    "display(property_data.head())\n",
    "display(dentists_df.head())\n"
   ],
   "id": "bd15b6eee77ec0cb",
   "outputs": [
    {
     "data": {
      "text/plain": [
       "    longitude   latitude\n",
       "0  172.682428 -43.569101\n",
       "1  174.766058 -36.850536\n",
       "2  174.766289 -36.848008\n",
       "3  174.770643 -36.847417\n",
       "4  174.753391 -36.860142"
      ],
      "text/html": [
       "<div>\n",
       "<style scoped>\n",
       "    .dataframe tbody tr th:only-of-type {\n",
       "        vertical-align: middle;\n",
       "    }\n",
       "\n",
       "    .dataframe tbody tr th {\n",
       "        vertical-align: top;\n",
       "    }\n",
       "\n",
       "    .dataframe thead th {\n",
       "        text-align: right;\n",
       "    }\n",
       "</style>\n",
       "<table border=\"1\" class=\"dataframe\">\n",
       "  <thead>\n",
       "    <tr style=\"text-align: right;\">\n",
       "      <th></th>\n",
       "      <th>longitude</th>\n",
       "      <th>latitude</th>\n",
       "    </tr>\n",
       "  </thead>\n",
       "  <tbody>\n",
       "    <tr>\n",
       "      <th>0</th>\n",
       "      <td>172.682428</td>\n",
       "      <td>-43.569101</td>\n",
       "    </tr>\n",
       "    <tr>\n",
       "      <th>1</th>\n",
       "      <td>174.766058</td>\n",
       "      <td>-36.850536</td>\n",
       "    </tr>\n",
       "    <tr>\n",
       "      <th>2</th>\n",
       "      <td>174.766289</td>\n",
       "      <td>-36.848008</td>\n",
       "    </tr>\n",
       "    <tr>\n",
       "      <th>3</th>\n",
       "      <td>174.770643</td>\n",
       "      <td>-36.847417</td>\n",
       "    </tr>\n",
       "    <tr>\n",
       "      <th>4</th>\n",
       "      <td>174.753391</td>\n",
       "      <td>-36.860142</td>\n",
       "    </tr>\n",
       "  </tbody>\n",
       "</table>\n",
       "</div>"
      ]
     },
     "metadata": {},
     "output_type": "display_data"
    },
    {
     "data": {
      "text/plain": [
       "                      place_id                    name        lat         lon  \\\n",
       "0  ChIJn2iTgIGqEm0R3tcUFgH1VDY             Mint Dental -37.191588  174.903652   \n",
       "1  ChIJZ1N2dWKqEm0RZV_x3mljNxU  Pukekohe Orthodontists -37.074346  174.922603   \n",
       "2  ChIJPx17MdWscm0RaYxnKNKfAcg   Vanessa Wright Dental -37.062908  174.940487   \n",
       "3  ChIJiQWVRdSscm0RgB5b7NnhmNM         The Denture Man -37.064653  174.943538   \n",
       "4  ChIJz13Dp9Wscm0Ru9TUvS4DslY   Dental World Papakura -37.063301  174.943527   \n",
       "\n",
       "   reviews      size  \n",
       "0       39  2.624500  \n",
       "1        3  2.173205  \n",
       "2       11  2.331662  \n",
       "3        9  2.300000  \n",
       "4        7  2.264575  "
      ],
      "text/html": [
       "<div>\n",
       "<style scoped>\n",
       "    .dataframe tbody tr th:only-of-type {\n",
       "        vertical-align: middle;\n",
       "    }\n",
       "\n",
       "    .dataframe tbody tr th {\n",
       "        vertical-align: top;\n",
       "    }\n",
       "\n",
       "    .dataframe thead th {\n",
       "        text-align: right;\n",
       "    }\n",
       "</style>\n",
       "<table border=\"1\" class=\"dataframe\">\n",
       "  <thead>\n",
       "    <tr style=\"text-align: right;\">\n",
       "      <th></th>\n",
       "      <th>place_id</th>\n",
       "      <th>name</th>\n",
       "      <th>lat</th>\n",
       "      <th>lon</th>\n",
       "      <th>reviews</th>\n",
       "      <th>size</th>\n",
       "    </tr>\n",
       "  </thead>\n",
       "  <tbody>\n",
       "    <tr>\n",
       "      <th>0</th>\n",
       "      <td>ChIJn2iTgIGqEm0R3tcUFgH1VDY</td>\n",
       "      <td>Mint Dental</td>\n",
       "      <td>-37.191588</td>\n",
       "      <td>174.903652</td>\n",
       "      <td>39</td>\n",
       "      <td>2.624500</td>\n",
       "    </tr>\n",
       "    <tr>\n",
       "      <th>1</th>\n",
       "      <td>ChIJZ1N2dWKqEm0RZV_x3mljNxU</td>\n",
       "      <td>Pukekohe Orthodontists</td>\n",
       "      <td>-37.074346</td>\n",
       "      <td>174.922603</td>\n",
       "      <td>3</td>\n",
       "      <td>2.173205</td>\n",
       "    </tr>\n",
       "    <tr>\n",
       "      <th>2</th>\n",
       "      <td>ChIJPx17MdWscm0RaYxnKNKfAcg</td>\n",
       "      <td>Vanessa Wright Dental</td>\n",
       "      <td>-37.062908</td>\n",
       "      <td>174.940487</td>\n",
       "      <td>11</td>\n",
       "      <td>2.331662</td>\n",
       "    </tr>\n",
       "    <tr>\n",
       "      <th>3</th>\n",
       "      <td>ChIJiQWVRdSscm0RgB5b7NnhmNM</td>\n",
       "      <td>The Denture Man</td>\n",
       "      <td>-37.064653</td>\n",
       "      <td>174.943538</td>\n",
       "      <td>9</td>\n",
       "      <td>2.300000</td>\n",
       "    </tr>\n",
       "    <tr>\n",
       "      <th>4</th>\n",
       "      <td>ChIJz13Dp9Wscm0Ru9TUvS4DslY</td>\n",
       "      <td>Dental World Papakura</td>\n",
       "      <td>-37.063301</td>\n",
       "      <td>174.943527</td>\n",
       "      <td>7</td>\n",
       "      <td>2.264575</td>\n",
       "    </tr>\n",
       "  </tbody>\n",
       "</table>\n",
       "</div>"
      ]
     },
     "metadata": {},
     "output_type": "display_data"
    }
   ],
   "execution_count": 7
  },
  {
   "metadata": {
    "ExecuteTime": {
     "end_time": "2024-10-25T01:09:19.062870Z",
     "start_time": "2024-10-25T01:09:19.057027Z"
    }
   },
   "cell_type": "code",
   "source": [
    "import numpy as np\n",
    "\n",
    "# Function to calculate distance between two points (Haversine formula)\n",
    "def haversine(lat1, lon1, lat2, lon2):\n",
    "    lat1, lon1, lat2, lon2 = map(np.radians, [lat1, lon1, lat2, lon2])\n",
    "    dlat = lat2 - lat1\n",
    "    dlon = lon2 - lon1\n",
    "    a = np.sin(dlat / 2)**2 + np.cos(lat1) * np.cos(lat2) * np.sin(dlon / 2)**2\n",
    "    c = 2 * np.arcsin(np.sqrt(a))\n",
    "    r = 6371  # Radius of Earth in kilometers\n",
    "    return c * r  # Distance in kilometers\n",
    "\n",
    "# Test the function\n",
    "print(haversine(-36.8485, 174.7633, -36.8484, 174.7634))  # Test distance in Auckland\n"
   ],
   "id": "18687aa4904b062",
   "outputs": [
    {
     "name": "stdout",
     "output_type": "stream",
     "text": [
      "0.014241458474257587\n"
     ]
    }
   ],
   "execution_count": 8
  },
  {
   "metadata": {
    "ExecuteTime": {
     "end_time": "2024-10-25T01:09:19.226822Z",
     "start_time": "2024-10-25T01:09:19.219937Z"
    }
   },
   "cell_type": "code",
   "source": [
    "# Locate the row corresponding to Massey Smiles in the dentists_df DataFrame\n",
    "massey_smiles_row = dentists_df[dentists_df['name'].str.contains('Massey Smiles', case=False)]\n",
    "\n",
    "# Extract the latitude and longitude for Massey Smiles\n",
    "massey_smiles_lat = massey_smiles_row['lat'].values[0]\n",
    "massey_smiles_lon = massey_smiles_row['lon'].values[0]\n",
    "massey_smiles_size = ratings_to_size(massey_smiles_row['reviews'].values[0])\n",
    "\n",
    "# Print the extracted location to verify\n",
    "print(f\"Massey Smiles Location: Latitude = {massey_smiles_lat}, Longitude = {massey_smiles_lon} Size = {massey_smiles_size}\")\n"
   ],
   "id": "9967bc303712d997",
   "outputs": [
    {
     "name": "stdout",
     "output_type": "stream",
     "text": [
      "Massey Smiles Location: Latitude = -36.82235440000001, Longitude = 174.6081585 Size = 2.8717797887081344\n"
     ]
    }
   ],
   "execution_count": 9
  },
  {
   "metadata": {
    "collapsed": true,
    "ExecuteTime": {
     "end_time": "2024-10-25T01:09:19.323035Z",
     "start_time": "2024-10-25T01:09:19.312584Z"
    }
   },
   "cell_type": "code",
   "source": [
    "# Massey Smiles' location (replace with actual latitude and longitude)\n",
    "\n",
    "# Calculate the distance of each patient to Massey Smiles using the Haversine formula\n",
    "patient_df['distance_to_massey_smiles'] = haversine(\n",
    "    patient_df['latitude'], patient_df['longitude'], massey_smiles_lat, massey_smiles_lon\n",
    ")\n",
    "\n",
    "# Display the first few rows to verify\n",
    "display(patient_df[['latitude', 'longitude', 'distance_to_massey_smiles']].head())\n"
   ],
   "id": "initial_id",
   "outputs": [
    {
     "name": "stdout",
     "output_type": "stream",
     "text": [
      "   latitude  longitude  distance_to_massey_smiles\n",
      "0  -36.7875    174.610                   3.879099\n",
      "1  -36.8152    174.635                   2.518266\n",
      "2  -36.8385    174.627                   2.456669\n",
      "3  -36.8337    174.604                   1.314747\n",
      "4  -36.8430    174.612                   2.321005\n"
     ]
    }
   ],
   "execution_count": 10
  },
  {
   "metadata": {
    "ExecuteTime": {
     "end_time": "2024-10-25T01:09:19.372056Z",
     "start_time": "2024-10-25T01:09:19.358762Z"
    }
   },
   "cell_type": "code",
   "source": [
    "# Define distance brackets (e.g., 0-1 km, 1-2 km, etc.)\n",
    "distance_brackets = [0, 1, 2, 3, 4, 5, 6, 7, 8, 9, 10]  # You can adjust these as needed\n",
    "\n",
    "# Bin the patients based on their distance to Massey Smiles\n",
    "patient_df['distance_bracket'] = pd.cut(patient_df['distance_to_massey_smiles'], bins=distance_brackets)\n",
    "\n",
    "# Count the number of patients in each distance bracket\n",
    "actual_patient_distribution = patient_df['distance_bracket'].value_counts().sort_index()\n",
    "\n",
    "# Display the actual patient distribution by distance\n",
    "\n",
    "total_actual_patients = actual_patient_distribution.sum()\n",
    "actual_percentage_distribution = (actual_patient_distribution / total_actual_patients) * 100\n",
    "display(actual_percentage_distribution)"
   ],
   "id": "30dcb8a02381bb6a",
   "outputs": [
    {
     "data": {
      "text/plain": [
       "distance_bracket\n",
       "(0, 1]      7.171686\n",
       "(1, 2]     20.987271\n",
       "(2, 3]     21.639242\n",
       "(3, 4]     15.212667\n",
       "(4, 5]      7.420056\n",
       "(5, 6]      8.351444\n",
       "(6, 7]      6.085067\n",
       "(7, 8]      5.650419\n",
       "(8, 9]      4.750078\n",
       "(9, 10]     2.732071\n",
       "Name: count, dtype: float64"
      ]
     },
     "metadata": {},
     "output_type": "display_data"
    }
   ],
   "execution_count": 11
  },
  {
   "metadata": {
    "ExecuteTime": {
     "end_time": "2024-10-25T01:09:19.400596Z",
     "start_time": "2024-10-25T01:09:19.393519Z"
    }
   },
   "cell_type": "code",
   "source": "display(actual_patient_distribution)",
   "id": "c4ecdfc6ffd0c44",
   "outputs": [
    {
     "data": {
      "text/plain": [
       "distance_bracket\n",
       "(0, 1]     231\n",
       "(1, 2]     676\n",
       "(2, 3]     697\n",
       "(3, 4]     490\n",
       "(4, 5]     239\n",
       "(5, 6]     269\n",
       "(6, 7]     196\n",
       "(7, 8]     182\n",
       "(8, 9]     153\n",
       "(9, 10]     88\n",
       "Name: count, dtype: int64"
      ]
     },
     "metadata": {},
     "output_type": "display_data"
    }
   ],
   "execution_count": 12
  },
  {
   "metadata": {
    "ExecuteTime": {
     "end_time": "2024-10-25T01:09:19.436363Z",
     "start_time": "2024-10-25T01:09:19.431204Z"
    }
   },
   "cell_type": "code",
   "source": [
    "import math\n",
    "\n",
    "property_lats = property_data['latitude'].values\n",
    "property_lons = property_data['longitude'].values\n",
    "dentist_sizes = dentists_df['size']"
   ],
   "id": "150d802d013f5da7",
   "outputs": [],
   "execution_count": 13
  },
  {
   "metadata": {
    "ExecuteTime": {
     "end_time": "2024-10-25T01:09:19.753801Z",
     "start_time": "2024-10-25T01:09:19.496782Z"
    }
   },
   "cell_type": "code",
   "source": [
    "# Define a function to predict the patient percentage distribution using the Huff model for Massey Smiles\n",
    "def predict_patient_percentage_distribution(beta):\n",
    "    # Calculate distances from all properties to Massey Smiles\n",
    "    distances = haversine(property_lats, property_lons, massey_smiles_lat, massey_smiles_lon)\n",
    "\n",
    "    # Calculate size-over-distance for each property\n",
    "    size_over_distance = massey_smiles_size / (distances ** beta)\n",
    "\n",
    "    # Normalize the size-over-distance values to get probabilities\n",
    "    total_size_over_distance = size_over_distance.sum()\n",
    "    if total_size_over_distance > 0:\n",
    "        normalized_probabilities = size_over_distance / total_size_over_distance\n",
    "    else:\n",
    "        normalized_probabilities = np.zeros_like(size_over_distance)\n",
    "\n",
    "    # Group properties into distance brackets and calculate the percentage of patients in each bracket\n",
    "    predicted_percentages = []\n",
    "    for bracket_start, bracket_end in zip(distance_brackets[:-1], distance_brackets[1:]):\n",
    "        # Mask distances within the current bracket\n",
    "        mask = (distances <= bracket_end) & (distances > bracket_start)\n",
    "        \n",
    "        # Sum the normalized probabilities for properties in the current bracket\n",
    "        bracket_probability_sum = normalized_probabilities[mask].sum()\n",
    "\n",
    "        # Append the percentage (between 0 and 1)\n",
    "        predicted_percentages.append(bracket_probability_sum)\n",
    "\n",
    "    # Convert to percentage (between 0 and 100)\n",
    "    predicted_percentages = np.array(predicted_percentages) * 100\n",
    "\n",
    "    return predicted_percentages\n",
    "\n",
    "# Example: Predict the distribution with a beta value of 2.0\n",
    "beta_test = 2.0\n",
    "predicted_percentage_distribution = predict_patient_percentage_distribution(beta_test)\n",
    "\n",
    "# Print the predicted percentage distribution\n",
    "print(\"Predicted patient percentage distribution:\", predicted_percentage_distribution)\n",
    "\n",
    "# Check the sum of the percentages to ensure it adds to 100\n",
    "print(\"Sum of predicted percentages:\", predicted_percentage_distribution.sum())\n"
   ],
   "id": "712d8688c420b119",
   "outputs": [
    {
     "name": "stdout",
     "output_type": "stream",
     "text": [
      "Predicted patient percentage distribution: [9.80873626e+01 6.23736872e-01 2.39715604e-01 1.56317014e-01\n",
      " 1.33529296e-01 9.79799690e-02 5.40508246e-02 5.24418200e-02\n",
      " 4.24474589e-02 4.20120449e-02]\n",
      "Sum of predicted percentages: 99.52959348915832\n"
     ]
    }
   ],
   "execution_count": 14
  },
  {
   "metadata": {
    "ExecuteTime": {
     "end_time": "2024-10-25T01:09:19.812212Z",
     "start_time": "2024-10-25T01:09:19.808294Z"
    }
   },
   "cell_type": "code",
   "source": [
    "# Function to calculate error between actual and predicted distribution\n",
    "def calculate_error(actual, predicted):\n",
    "    return np.sum((actual - predicted) ** 2)\n"
   ],
   "id": "4023f116ed9f7117",
   "outputs": [],
   "execution_count": 15
  },
  {
   "metadata": {
    "ExecuteTime": {
     "end_time": "2024-10-25T01:10:29.527747Z",
     "start_time": "2024-10-25T01:10:23.685407Z"
    }
   },
   "cell_type": "code",
   "source": [
    "import numpy as np\n",
    "from tqdm import tqdm\n",
    "\n",
    "# Tune beta between a lower range to minimize the error\n",
    "best_beta = None\n",
    "best_error = float('inf')\n",
    "\n",
    "# Iterate over a lower range of beta values\n",
    "for beta in tqdm(np.arange(0.1, 2.0, 0.1), desc=\"Tuning Beta\"):\n",
    "    predicted_percentage_distribution = predict_patient_percentage_distribution(beta)\n",
    "    error = calculate_error(actual_percentage_distribution.values, predicted_percentage_distribution)\n",
    "\n",
    "    if error < best_error:\n",
    "        best_beta = beta\n",
    "        best_error = error\n",
    "\n",
    "# Output the best beta and minimum error\n",
    "print(f\"Best Beta (Lowered Range): {best_beta}\")\n",
    "print(f\"Minimum Error (Lowered Range): {best_error}\")\n",
    "\n",
    "# Print actual vs predicted for visual comparison\n",
    "print(\"\\nActual Patient Percentage Distribution:\", actual_percentage_distribution.values)\n",
    "print(\"Predicted Patient Percentage Distribution (Best Beta):\", predict_patient_percentage_distribution(best_beta))\n"
   ],
   "id": "27f6f423d4ee7f2d",
   "outputs": [
    {
     "name": "stderr",
     "output_type": "stream",
     "text": [
      "Tuning Beta: 100%|██████████| 19/19 [00:05<00:00,  3.44it/s]\n"
     ]
    },
    {
     "name": "stdout",
     "output_type": "stream",
     "text": [
      "Best Beta (Lowered Range): 1.1\n",
      "Minimum Error (Lowered Range): 689.4772602224191\n",
      "\n",
      "Actual Patient Percentage Distribution: [ 7.17168581 20.98727103 21.63924247 15.21266687  7.42005588  8.35144365\n",
      "  6.08506675  5.65041912  4.75007762  2.73207079]\n",
      "Predicted Patient Percentage Distribution (Best Beta): [11.86062873  7.28166417  4.44569158  4.00902829  4.29957567  3.77457872\n",
      "  2.4050313   2.6780448   2.41804964  2.65088208]\n"
     ]
    }
   ],
   "execution_count": 17
  },
  {
   "metadata": {
    "ExecuteTime": {
     "end_time": "2024-10-25T01:09:26.023253Z",
     "start_time": "2024-10-25T01:09:26.020335Z"
    }
   },
   "cell_type": "code",
   "source": "",
   "id": "156425f199bc8c22",
   "outputs": [],
   "execution_count": null
  }
 ],
 "metadata": {
  "kernelspec": {
   "display_name": "Python 3",
   "language": "python",
   "name": "python3"
  },
  "language_info": {
   "codemirror_mode": {
    "name": "ipython",
    "version": 2
   },
   "file_extension": ".py",
   "mimetype": "text/x-python",
   "name": "python",
   "nbconvert_exporter": "python",
   "pygments_lexer": "ipython2",
   "version": "2.7.6"
  }
 },
 "nbformat": 4,
 "nbformat_minor": 5
}
